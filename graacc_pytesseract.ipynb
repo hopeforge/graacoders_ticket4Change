{
  "nbformat": 4,
  "nbformat_minor": 0,
  "metadata": {
    "colab": {
      "name": "graacc_pytesseract",
      "provenance": [],
      "private_outputs": true,
      "collapsed_sections": []
    },
    "kernelspec": {
      "name": "python3",
      "display_name": "Python 3"
    }
  },
  "cells": [
    {
      "cell_type": "code",
      "metadata": {
        "id": "gyMPSdG93Jv4",
        "colab_type": "code",
        "colab": {}
      },
      "source": [
        "!sudo apt install tesseract-ocr\n",
        "!sudo apt install tesseract-ocr-por\n",
        "!pip install pytesseract"
      ],
      "execution_count": 0,
      "outputs": []
    },
    {
      "cell_type": "code",
      "metadata": {
        "id": "I5Ty4Rkj3DUN",
        "colab_type": "code",
        "colab": {}
      },
      "source": [
        "import cv2\n",
        "import pytesseract\n",
        "import numpy as np\n",
        "import pandas as pd\n",
        "import re\n",
        "import os"
      ],
      "execution_count": 0,
      "outputs": []
    },
    {
      "cell_type": "code",
      "metadata": {
        "id": "yJ6-6wJY4qFc",
        "colab_type": "code",
        "colab": {}
      },
      "source": [
        "from google.colab import files\n",
        "uploaded = files.upload()"
      ],
      "execution_count": 0,
      "outputs": []
    },
    {
      "cell_type": "code",
      "metadata": {
        "id": "_kfxNwQg4cQ_",
        "colab_type": "code",
        "colab": {}
      },
      "source": [
        "kernel = np.ones((5,5),np.uint8)\n",
        "\n",
        "#Carrega a imagem original\n",
        "imagem_original = cv2.imread('nota_fiscal.jpg')\n",
        "\n",
        "#Coloca em preto e branco\n",
        "imagem_pb = cv2.cvtColor(imagem_original, cv2.COLOR_BGR2GRAY)\n",
        "\n",
        "#Usa um threshold para planificar sombras das imagens e tentar separar melhor as letras\n",
        "imagem_threshold = cv2.adaptiveThreshold(imagem_pb,255,\n",
        "                                        cv2.ADAPTIVE_THRESH_GAUSSIAN_C,\\\n",
        "                                        cv2.THRESH_BINARY,11,5)\n",
        "\n",
        "#Usa um blur para diminuir o processo destrutivo das letras quando passam pelo o threshold\n",
        "imagem_blur = cv2.GaussianBlur(imagem_threshold,(11,11), 0)\n",
        "\n",
        "#Usa um filtro de opening para tentar equilibrar o blur com a definição do threshold para a leitura no OCR\n",
        "imagem_opening = cv2.morphologyEx(imagem_blur, cv2.MORPH_OPEN, kernel)"
      ],
      "execution_count": 0,
      "outputs": []
    },
    {
      "cell_type": "code",
      "metadata": {
        "id": "-pG4StcO3Fpw",
        "colab_type": "code",
        "colab": {}
      },
      "source": [
        "ocr_text = pytesseract.image_to_string(imagem_opening, lang = \"por\")"
      ],
      "execution_count": 0,
      "outputs": []
    },
    {
      "cell_type": "code",
      "metadata": {
        "id": "m_TzvCMr5hj6",
        "colab_type": "code",
        "colab": {}
      },
      "source": [
        "ocr_text"
      ],
      "execution_count": 0,
      "outputs": []
    },
    {
      "cell_type": "code",
      "metadata": {
        "id": "S1wJH21E5l_R",
        "colab_type": "code",
        "colab": {}
      },
      "source": [
        ""
      ],
      "execution_count": 0,
      "outputs": []
    }
  ]
}