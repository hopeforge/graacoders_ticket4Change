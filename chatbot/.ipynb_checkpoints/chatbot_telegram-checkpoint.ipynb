{
 "cells": [
  {
   "cell_type": "code",
   "execution_count": null,
   "metadata": {},
   "outputs": [],
   "source": [
    "%pip install telepot\n",
    "\n",
    "\"\"\"\n",
    "    NOTEBOOK DE ESTUDOS DA TELEBOT API\n",
    "\"\"\""
   ]
  },
  {
   "cell_type": "code",
   "execution_count": 1,
   "metadata": {},
   "outputs": [
    {
     "data": {
      "text/plain": [
       "[{'update_id': 311242771,\n",
       "  'message': {'message_id': 330,\n",
       "   'from': {'id': 997657577,\n",
       "    'is_bot': False,\n",
       "    'first_name': 'Daniel',\n",
       "    'last_name': 'Ximenes',\n",
       "    'language_code': 'pt-br'},\n",
       "   'chat': {'id': 997657577,\n",
       "    'first_name': 'Daniel',\n",
       "    'last_name': 'Ximenes',\n",
       "    'type': 'private'},\n",
       "   'date': 1575754556,\n",
       "   'document': {'file_name': 'download.png',\n",
       "    'mime_type': 'image/png',\n",
       "    'thumb': {'file_id': 'AAQBAANkAAOHw2FHyoL5DPnpeqT__G4GAAQBAAdtAAOsUQACFgQ',\n",
       "     'file_size': 17327,\n",
       "     'width': 320,\n",
       "     'height': 170},\n",
       "    'file_id': 'BQADAQADZAADh8NhR8qC-Qz56XqkFgQ',\n",
       "    'file_size': 378646}}}]"
      ]
     },
     "execution_count": 1,
     "metadata": {},
     "output_type": "execute_result"
    }
   ],
   "source": [
    "import telepot\n",
    "from pprint import pprint\n",
    "token = '1023504391:AAEodSKmzb17E7Mdf7ZBaka-lvMGCAYfVJQ'\n",
    "bot = telepot.Bot(token)\n",
    "bot.getUpdates()"
   ]
  },
  {
   "cell_type": "code",
   "execution_count": 2,
   "metadata": {},
   "outputs": [
    {
     "name": "stdout",
     "output_type": "stream",
     "text": [
      "[]\n"
     ]
    }
   ],
   "source": [
    "response = bot.getUpdates()\n",
    "pprint(response)"
   ]
  },
  {
   "cell_type": "code",
   "execution_count": 3,
   "metadata": {},
   "outputs": [
    {
     "name": "stdout",
     "output_type": "stream",
     "text": [
      "[]\n"
     ]
    }
   ],
   "source": [
    "response = bot.getUpdates(311242593+1)\n",
    "pprint(response)"
   ]
  },
  {
   "cell_type": "code",
   "execution_count": 4,
   "metadata": {},
   "outputs": [],
   "source": [
    "# Codigo para receber mensagens\n",
    "from telepot.loop import MessageLoop\n",
    "def handle(msg):\n",
    "    pprint(msg)\n",
    "MessageLoop(bot, handle).run_as_thread()"
   ]
  },
  {
   "cell_type": "code",
   "execution_count": 3,
   "metadata": {},
   "outputs": [
    {
     "data": {
      "text/plain": [
       "{'message_id': 303,\n",
       " 'from': {'id': 1023504391,\n",
       "  'is_bot': True,\n",
       "  'first_name': 'GRAACC',\n",
       "  'username': 'GraaccBot'},\n",
       " 'chat': {'id': 997657577,\n",
       "  'first_name': 'Daniel',\n",
       "  'last_name': 'Ximenes',\n",
       "  'type': 'private'},\n",
       " 'date': 1575753716,\n",
       " 'text': 'Hey!'}"
      ]
     },
     "execution_count": 3,
     "metadata": {},
     "output_type": "execute_result"
    }
   ],
   "source": [
    "bot.sendMessage(997657577, 'Hey!')"
   ]
  },
  {
   "cell_type": "code",
   "execution_count": null,
   "metadata": {},
   "outputs": [
    {
     "name": "stdout",
     "output_type": "stream",
     "text": [
      "Listening ...\n",
      "text private 997657577\n",
      "text private 997657577\n",
      "document private 997657577\n"
     ]
    }
   ],
   "source": [
    "import sys\n",
    "import time\n",
    "import telepot\n",
    "from telepot.loop import MessageLoop\n",
    "\n",
    "def handle(msg):\n",
    "    content_type, chat_type, chat_id = telepot.glance(msg)\n",
    "    print(content_type, chat_type, chat_id)\n",
    "\n",
    "    if content_type == 'text':\n",
    "        bot.sendMessage(chat_id, msg['text'])\n",
    "\n",
    "TOKEN = '1023504391:AAEodSKmzb17E7Mdf7ZBaka-lvMGCAYfVJQ' # sys.argv[1]  # get token from command-line\n",
    "\n",
    "bot = telepot.Bot(TOKEN)\n",
    "MessageLoop(bot, handle).run_as_thread()\n",
    "print('Listening ...')\n",
    "\n",
    "# Keep the program running.\n",
    "while 1:\n",
    "    time.sleep(10)"
   ]
  },
  {
   "cell_type": "code",
   "execution_count": null,
   "metadata": {},
   "outputs": [],
   "source": []
  },
  {
   "cell_type": "code",
   "execution_count": null,
   "metadata": {},
   "outputs": [
    {
     "name": "stdout",
     "output_type": "stream",
     "text": [
      "Listening ...\n",
      "Callback Query: 4284906666635802557 997657577 press\n"
     ]
    }
   ],
   "source": [
    "import sys\n",
    "import time\n",
    "import telepot\n",
    "from telepot.loop import MessageLoop\n",
    "from telepot.namedtuple import InlineKeyboardMarkup, InlineKeyboardButton\n",
    "\n",
    "def on_chat_message(msg):\n",
    "    content_type, chat_type, chat_id = telepot.glance(msg)\n",
    "\n",
    "    keyboard = InlineKeyboardMarkup(inline_keyboard=[\n",
    "                   [InlineKeyboardButton(text='Press me', callback_data='press')],\n",
    "               ])\n",
    "\n",
    "    bot.sendMessage(chat_id, 'Use inline keyboard', reply_markup=keyboard)\n",
    "\n",
    "def on_callback_query(msg):\n",
    "    query_id, from_id, query_data = telepot.glance(msg, flavor='callback_query')\n",
    "    print('Callback Query:', query_id, from_id, query_data)\n",
    "\n",
    "    bot.answerCallbackQuery(query_id, text='Got it')\n",
    "\n",
    "TOKEN = '1023504391:AAEodSKmzb17E7Mdf7ZBaka-lvMGCAYfVJQ'#sys.argv[1]  # get token from command-line\n",
    "\n",
    "bot = telepot.Bot(TOKEN)\n",
    "MessageLoop(bot, {'chat': on_chat_message,\n",
    "                  'callback_query': on_callback_query}).run_as_thread()\n",
    "print('Listening ...')\n",
    "\n",
    "while 1:\n",
    "    time.sleep(10)"
   ]
  },
  {
   "cell_type": "code",
   "execution_count": null,
   "metadata": {},
   "outputs": [
    {
     "name": "stderr",
     "output_type": "stream",
     "text": [
      "Traceback (most recent call last):\n",
      "  File \"C:\\Users\\drximenes\\AppData\\Local\\Continuum\\anaconda3\\lib\\site-packages\\telepot\\helper.py\", line 1033, in route\n",
      "    fn = self.routing_table[key]\n",
      "KeyError: 'chat'\n",
      "\n",
      "During handling of the above exception, another exception occurred:\n",
      "\n",
      "Traceback (most recent call last):\n",
      "  File \"C:\\Users\\drximenes\\AppData\\Local\\Continuum\\anaconda3\\lib\\site-packages\\telepot\\loop.py\", line 37, in run_forever\n",
      "    self._handle(msg)\n",
      "  File \"C:\\Users\\drximenes\\AppData\\Local\\Continuum\\anaconda3\\lib\\site-packages\\telepot\\helper.py\", line 1039, in route\n",
      "    raise RuntimeError('No handler for key: %s, and default handler not defined' % str(e.args))\n",
      "RuntimeError: No handler for key: ('chat',), and default handler not defined\n",
      "Traceback (most recent call last):\n",
      "  File \"C:\\Users\\drximenes\\AppData\\Local\\Continuum\\anaconda3\\lib\\site-packages\\telepot\\helper.py\", line 1033, in route\n",
      "    fn = self.routing_table[key]\n",
      "KeyError: 'chat'\n",
      "\n",
      "During handling of the above exception, another exception occurred:\n",
      "\n",
      "Traceback (most recent call last):\n",
      "  File \"C:\\Users\\drximenes\\AppData\\Local\\Continuum\\anaconda3\\lib\\site-packages\\telepot\\loop.py\", line 37, in run_forever\n",
      "    self._handle(msg)\n",
      "  File \"C:\\Users\\drximenes\\AppData\\Local\\Continuum\\anaconda3\\lib\\site-packages\\telepot\\helper.py\", line 1039, in route\n",
      "    raise RuntimeError('No handler for key: %s, and default handler not defined' % str(e.args))\n",
      "RuntimeError: No handler for key: ('chat',), and default handler not defined\n"
     ]
    }
   ],
   "source": [
    "import sys\n",
    "import time\n",
    "import telepot\n",
    "from telepot.loop import MessageLoop\n",
    "from telepot.namedtuple import InlineQueryResultArticle, InputTextMessageContent\n",
    "\n",
    "def on_inline_query(msg):\n",
    "    query_id, from_id, query_string = telepot.glance(msg, flavor='inline_query')\n",
    "    print ('Inline Query:', query_id, from_id, query_string)\n",
    "\n",
    "    articles = [InlineQueryResultArticle(\n",
    "                    id='abc',\n",
    "                    title='ABC',\n",
    "                    input_message_content=InputTextMessageContent(\n",
    "                        message_text='Hello'\n",
    "                    )\n",
    "               )]\n",
    "\n",
    "    bot.answerInlineQuery(query_id, articles)\n",
    "\n",
    "def on_chosen_inline_result(msg):\n",
    "    result_id, from_id, query_string = telepot.glance(msg, flavor='chosen_inline_result')\n",
    "    print ('Chosen Inline Result:', result_id, from_id, query_string)\n",
    "\n",
    "TOKEN = '1023504391:AAEodSKmzb17E7Mdf7ZBaka-lvMGCAYfVJQ' #sys.argv[1]  # get token from command-line\n",
    "\n",
    "bot = telepot.Bot(TOKEN)\n",
    "MessageLoop(bot, {'inline_query': on_inline_query,\n",
    "                  'chosen_inline_result': on_chosen_inline_result}).run_as_thread()\n",
    "\n",
    "while 1:\n",
    "    time.sleep(10)"
   ]
  },
  {
   "cell_type": "code",
   "execution_count": null,
   "metadata": {},
   "outputs": [
    {
     "name": "stderr",
     "output_type": "stream",
     "text": [
      "Traceback (most recent call last):\n",
      "  File \"C:\\Users\\drximenes\\AppData\\Local\\Continuum\\anaconda3\\lib\\site-packages\\telepot\\helper.py\", line 1033, in route\n",
      "    fn = self.routing_table[key]\n",
      "KeyError: 'chat'\n",
      "\n",
      "During handling of the above exception, another exception occurred:\n",
      "\n",
      "Traceback (most recent call last):\n",
      "  File \"C:\\Users\\drximenes\\AppData\\Local\\Continuum\\anaconda3\\lib\\site-packages\\telepot\\loop.py\", line 37, in run_forever\n",
      "    self._handle(msg)\n",
      "  File \"C:\\Users\\drximenes\\AppData\\Local\\Continuum\\anaconda3\\lib\\site-packages\\telepot\\helper.py\", line 1039, in route\n",
      "    raise RuntimeError('No handler for key: %s, and default handler not defined' % str(e.args))\n",
      "RuntimeError: No handler for key: ('chat',), and default handler not defined\n"
     ]
    }
   ],
   "source": [
    "import sys\n",
    "import time\n",
    "import telepot\n",
    "from telepot.loop import MessageLoop\n",
    "from telepot.namedtuple import InlineQueryResultArticle, InputTextMessageContent\n",
    "\n",
    "def on_inline_query(msg):\n",
    "    def compute():\n",
    "        query_id, from_id, query_string = telepot.glance(msg, flavor='inline_query')\n",
    "        print('Inline Query:', query_id, from_id, query_string)\n",
    "\n",
    "        articles = [InlineQueryResultArticle(\n",
    "                        id='abc',\n",
    "                        title=query_string,\n",
    "                        input_message_content=InputTextMessageContent(\n",
    "                            message_text=query_string\n",
    "                        )\n",
    "                   )]\n",
    "\n",
    "        return articles\n",
    "\n",
    "    answerer.answer(msg, compute)\n",
    "\n",
    "def on_chosen_inline_result(msg):\n",
    "    result_id, from_id, query_string = telepot.glance(msg, flavor='chosen_inline_result')\n",
    "    print ('Chosen Inline Result:', result_id, from_id, query_string)\n",
    "\n",
    "TOKEN = '1023504391:AAEodSKmzb17E7Mdf7ZBaka-lvMGCAYfVJQ' #sys.argv[1]  # get token from command-line\n",
    "\n",
    "bot = telepot.Bot(TOKEN)\n",
    "answerer = telepot.helper.Answerer(bot)\n",
    "\n",
    "MessageLoop(bot, {'inline_query': on_inline_query,\n",
    "                  'chosen_inline_result': on_chosen_inline_result}).run_as_thread()\n",
    "\n",
    "while 1:\n",
    "    time.sleep(10)"
   ]
  },
  {
   "cell_type": "code",
   "execution_count": null,
   "metadata": {},
   "outputs": [
    {
     "name": "stderr",
     "output_type": "stream",
     "text": [
      "ERROR:root:on_close() called due to IdleTerminate: 10\n"
     ]
    }
   ],
   "source": [
    "import sys\n",
    "import time\n",
    "import telepot\n",
    "from telepot.loop import MessageLoop\n",
    "from telepot.delegate import pave_event_space, per_chat_id, create_open\n",
    "\n",
    "class MessageCounter(telepot.helper.ChatHandler):\n",
    "    def __init__(self, *args, **kwargs):\n",
    "        super(MessageCounter, self).__init__(*args, **kwargs)\n",
    "        self._count = 0\n",
    "\n",
    "    def on_chat_message(self, msg):\n",
    "        self._count += 1\n",
    "        self.sender.sendMessage(self._count)\n",
    "\n",
    "TOKEN = \"1023504391:AAEodSKmzb17E7Mdf7ZBaka-lvMGCAYfVJQ\" #sys.argv[1]  # get token from command-line\n",
    "\n",
    "bot = telepot.DelegatorBot(TOKEN, [\n",
    "    pave_event_space()(\n",
    "        per_chat_id(), create_open, MessageCounter, timeout=10),\n",
    "])\n",
    "MessageLoop(bot).run_as_thread()\n",
    "\n",
    "while 1:\n",
    "    time.sleep(10)"
   ]
  },
  {
   "cell_type": "code",
   "execution_count": null,
   "metadata": {},
   "outputs": [],
   "source": [
    "import sys\n",
    "import time\n",
    "import telepot\n",
    "from telepot.loop import MessageLoop\n",
    "from telepot.delegate import pave_event_space, per_inline_from_id, create_open\n",
    "from telepot.namedtuple import InlineQueryResultArticle, InputTextMessageContent\n",
    "\n",
    "class QueryCounter(telepot.helper.InlineUserHandler, telepot.helper.AnswererMixin):\n",
    "    def __init__(self, *args, **kwargs):\n",
    "        super(QueryCounter, self).__init__(*args, **kwargs)\n",
    "        self._count = 0\n",
    "\n",
    "    def on_inline_query(self, msg):\n",
    "        def compute():\n",
    "            query_id, from_id, query_string = telepot.glance(msg, flavor='inline_query')\n",
    "            print(self.id, ':', 'Inline Query:', query_id, from_id, query_string)\n",
    "\n",
    "            self._count += 1\n",
    "            text = '%d. %s' % (self._count, query_string)\n",
    "\n",
    "            articles = [InlineQueryResultArticle(\n",
    "                            id='997657577',\n",
    "                            title=text,\n",
    "                            input_message_content=InputTextMessageContent(\n",
    "                                message_text=text\n",
    "                            )\n",
    "                       )]\n",
    "\n",
    "            return articles\n",
    "\n",
    "        self.answerer.answer(msg, compute)\n",
    "\n",
    "    def on_chosen_inline_result(self, msg):\n",
    "        result_id, from_id, query_string = telepot.glance(msg, flavor='chosen_inline_result')\n",
    "        print(self.id, ':', 'Chosen Inline Result:', result_id, from_id, query_string)\n",
    "\n",
    "TOKEN = '1023504391:AAEodSKmzb17E7Mdf7ZBaka-lvMGCAYfVJQ' #sys.argv[1]  # get token from command-line\n",
    "\n",
    "bot = telepot.DelegatorBot(TOKEN, [\n",
    "    pave_event_space()(\n",
    "        per_inline_from_id(), create_open, QueryCounter, timeout=10),\n",
    "])\n",
    "MessageLoop(bot).run_as_thread()\n",
    "\n",
    "while 1:\n",
    "    time.sleep(10)"
   ]
  },
  {
   "cell_type": "code",
   "execution_count": 1,
   "metadata": {},
   "outputs": [
    {
     "name": "stdout",
     "output_type": "stream",
     "text": [
      "Listening ...\n"
     ]
    },
    {
     "ename": "RuntimeError",
     "evalue": "This event loop is already running",
     "output_type": "error",
     "traceback": [
      "\u001b[1;31m---------------------------------------------------------------------------\u001b[0m",
      "\u001b[1;31mRuntimeError\u001b[0m                              Traceback (most recent call last)",
      "\u001b[1;32m<ipython-input-1-0edfb6628ec9>\u001b[0m in \u001b[0;36m<module>\u001b[1;34m\u001b[0m\n\u001b[0;32m     25\u001b[0m \u001b[0mprint\u001b[0m\u001b[1;33m(\u001b[0m\u001b[1;34m'Listening ...'\u001b[0m\u001b[1;33m)\u001b[0m\u001b[1;33m\u001b[0m\u001b[1;33m\u001b[0m\u001b[0m\n\u001b[0;32m     26\u001b[0m \u001b[1;33m\u001b[0m\u001b[0m\n\u001b[1;32m---> 27\u001b[1;33m \u001b[0mloop\u001b[0m\u001b[1;33m.\u001b[0m\u001b[0mrun_forever\u001b[0m\u001b[1;33m(\u001b[0m\u001b[1;33m)\u001b[0m\u001b[1;33m\u001b[0m\u001b[1;33m\u001b[0m\u001b[0m\n\u001b[0m",
      "\u001b[1;32m~\\AppData\\Local\\Continuum\\anaconda3\\lib\\asyncio\\base_events.py\u001b[0m in \u001b[0;36mrun_forever\u001b[1;34m(self)\u001b[0m\n\u001b[0;32m    519\u001b[0m         \u001b[0mself\u001b[0m\u001b[1;33m.\u001b[0m\u001b[0m_check_closed\u001b[0m\u001b[1;33m(\u001b[0m\u001b[1;33m)\u001b[0m\u001b[1;33m\u001b[0m\u001b[1;33m\u001b[0m\u001b[0m\n\u001b[0;32m    520\u001b[0m         \u001b[1;32mif\u001b[0m \u001b[0mself\u001b[0m\u001b[1;33m.\u001b[0m\u001b[0mis_running\u001b[0m\u001b[1;33m(\u001b[0m\u001b[1;33m)\u001b[0m\u001b[1;33m:\u001b[0m\u001b[1;33m\u001b[0m\u001b[1;33m\u001b[0m\u001b[0m\n\u001b[1;32m--> 521\u001b[1;33m             \u001b[1;32mraise\u001b[0m \u001b[0mRuntimeError\u001b[0m\u001b[1;33m(\u001b[0m\u001b[1;34m'This event loop is already running'\u001b[0m\u001b[1;33m)\u001b[0m\u001b[1;33m\u001b[0m\u001b[1;33m\u001b[0m\u001b[0m\n\u001b[0m\u001b[0;32m    522\u001b[0m         \u001b[1;32mif\u001b[0m \u001b[0mevents\u001b[0m\u001b[1;33m.\u001b[0m\u001b[0m_get_running_loop\u001b[0m\u001b[1;33m(\u001b[0m\u001b[1;33m)\u001b[0m \u001b[1;32mis\u001b[0m \u001b[1;32mnot\u001b[0m \u001b[1;32mNone\u001b[0m\u001b[1;33m:\u001b[0m\u001b[1;33m\u001b[0m\u001b[1;33m\u001b[0m\u001b[0m\n\u001b[0;32m    523\u001b[0m             raise RuntimeError(\n",
      "\u001b[1;31mRuntimeError\u001b[0m: This event loop is already running"
     ]
    },
    {
     "name": "stderr",
     "output_type": "stream",
     "text": [
      "ERROR:root:on_close() called due to IdleTerminate: 10\n"
     ]
    }
   ],
   "source": [
    "import sys\n",
    "import asyncio\n",
    "import telepot\n",
    "from telepot.aio.loop import MessageLoop\n",
    "from telepot.aio.delegate import pave_event_space, per_chat_id, create_open\n",
    "\n",
    "class MessageCounter(telepot.aio.helper.ChatHandler):\n",
    "    def __init__(self, *args, **kwargs):\n",
    "        super(MessageCounter, self).__init__(*args, **kwargs)\n",
    "        self._count = 0\n",
    "\n",
    "    async def on_chat_message(self, msg):\n",
    "        self._count += 1\n",
    "        await self.sender.sendMessage(self._count)\n",
    "\n",
    "TOKEN = \"1023504391:AAEodSKmzb17E7Mdf7ZBaka-lvMGCAYfVJQ\" #sys.argv[1]  # get token from command-line\n",
    "\n",
    "bot = telepot.aio.DelegatorBot(TOKEN, [\n",
    "    pave_event_space()(\n",
    "        per_chat_id(), create_open, MessageCounter, timeout=10),\n",
    "])\n",
    "\n",
    "loop = asyncio.get_event_loop()\n",
    "loop.create_task(MessageLoop(bot).run_forever())\n",
    "print('Listening ...')\n",
    "\n",
    "loop.run_forever()"
   ]
  },
  {
   "cell_type": "code",
   "execution_count": null,
   "metadata": {},
   "outputs": [
    {
     "name": "stdout",
     "output_type": "stream",
     "text": [
      "Listening ...\n",
      "Chat id 997657577 is excluded.\n",
      "Chat id 997657577 is excluded.\n",
      "Chat id 997657577 is excluded.\n",
      "Chat id 997657577 is excluded.\n",
      "Chat id 997657577 is excluded.\n"
     ]
    },
    {
     "name": "stderr",
     "output_type": "stream",
     "text": [
      "ERROR:root:on_close() called due to IdleTerminate: 20\n"
     ]
    },
    {
     "name": "stdout",
     "output_type": "stream",
     "text": [
      "Chat id 997657577 is excluded.\n",
      "Chat id 997657577 is excluded.\n"
     ]
    },
    {
     "name": "stderr",
     "output_type": "stream",
     "text": [
      "ERROR:root:on_close() called due to IdleTerminate: 20\n"
     ]
    }
   ],
   "source": [
    "import sys\n",
    "import time\n",
    "import telepot\n",
    "from telepot.loop import MessageLoop\n",
    "from telepot.delegate import (\n",
    "    per_chat_id_in, per_application, call, create_open, pave_event_space)\n",
    "\n",
    "\"\"\"\n",
    "$ python3.5 chatbox_nodb.py <token> <owner_id>\n",
    "Chatbox - a mailbox for chats\n",
    "1. People send messages to your bot.\n",
    "2. Your bot remembers the messages.\n",
    "3. You read the messages later.\n",
    "It accepts the following commands from you, the owner, only:\n",
    "- `/unread` - tells you who has sent you messages and how many\n",
    "- `/next` - read next sender's messages\n",
    "This example can be a starting point for **customer support** type of bots.\n",
    "For example, customers send questions to a bot account; staff answers questions\n",
    "behind the scene, makes it look like the bot is answering questions.\n",
    "It further illustrates the use of `DelegateBot` and `ChatHandler`, and how to\n",
    "spawn delegates differently according to the role of users.\n",
    "This example only handles text messages and stores messages in memory.\n",
    "If the bot is killed, all messages are lost. It is an *example* after all.\n",
    "\"\"\"\n",
    "\n",
    "# Simulate a database to store unread messages\n",
    "class UnreadStore(object):\n",
    "    def __init__(self):\n",
    "        self._db = {}\n",
    "\n",
    "    def put(self, msg):\n",
    "        chat_id = msg['chat']['id']\n",
    "\n",
    "        if chat_id not in self._db:\n",
    "            self._db[chat_id] = []\n",
    "\n",
    "        self._db[chat_id].append(msg)\n",
    "\n",
    "    # Pull all unread messages of a `chat_id`\n",
    "    def pull(self, chat_id):\n",
    "        messages = self._db[chat_id]\n",
    "        del self._db[chat_id]\n",
    "\n",
    "        # sort by date\n",
    "        messages.sort(key=lambda m: m['date'])\n",
    "        return messages\n",
    "\n",
    "    # Tells how many unread messages per chat_id\n",
    "    def unread_per_chat(self):\n",
    "        return [(k,len(v)) for k,v in self._db.items()]\n",
    "\n",
    "\n",
    "# Accept commands from owner. Give him unread messages.\n",
    "class OwnerHandler(telepot.helper.ChatHandler):\n",
    "    def __init__(self, seed_tuple, store, **kwargs):\n",
    "        super(OwnerHandler, self).__init__(seed_tuple, **kwargs)\n",
    "        self._store = store\n",
    "\n",
    "    def _read_messages(self, messages):\n",
    "        for msg in messages:\n",
    "            # assume all messages are text\n",
    "            self.sender.sendMessage(msg['text'])\n",
    "\n",
    "    def on_chat_message(self, msg):\n",
    "        content_type, chat_type, chat_id = telepot.glance(msg)\n",
    "\n",
    "        if content_type != 'text':\n",
    "            self.sender.sendMessage(\"I don't understand\")\n",
    "            return\n",
    "\n",
    "        command = msg['text'].strip().lower()\n",
    "\n",
    "        # Tells who has sent you how many messages\n",
    "        if command == '/unread':\n",
    "            results = self._store.unread_per_chat()\n",
    "\n",
    "            lines = []\n",
    "            for r in results:\n",
    "                n = 'ID: %d\\n%d unread' % r\n",
    "                lines.append(n)\n",
    "\n",
    "            if not len(lines):\n",
    "                self.sender.sendMessage('No unread messages')\n",
    "            else:\n",
    "                self.sender.sendMessage('\\n'.join(lines))\n",
    "\n",
    "        # read next sender's messages\n",
    "        elif command == '/next':\n",
    "            results = self._store.unread_per_chat()\n",
    "\n",
    "            if not len(results):\n",
    "                self.sender.sendMessage('No unread messages')\n",
    "                return\n",
    "\n",
    "            chat_id = results[0][0]\n",
    "            unread_messages = self._store.pull(chat_id)\n",
    "\n",
    "            self.sender.sendMessage('From ID: %d' % chat_id)\n",
    "            self._read_messages(unread_messages)\n",
    "\n",
    "        else:\n",
    "            self.sender.sendMessage(\"I don't understand\")\n",
    "\n",
    "\n",
    "class MessageSaver(telepot.helper.Monitor):\n",
    "    def __init__(self, seed_tuple, store, exclude):\n",
    "        # The `capture` criteria means to capture all messages.\n",
    "        super(MessageSaver, self).__init__(seed_tuple, capture=[[lambda msg: not telepot.is_event(msg)]])\n",
    "        self._store = store\n",
    "        self._exclude = exclude\n",
    "\n",
    "    # Store every message, except those whose sender is in the exclude list, or non-text messages.\n",
    "    def on_chat_message(self, msg):\n",
    "        content_type, chat_type, chat_id = telepot.glance(msg)\n",
    "\n",
    "        if chat_id in self._exclude:\n",
    "            print('Chat id %d is excluded.' % chat_id)\n",
    "            return\n",
    "\n",
    "        if content_type != 'text':\n",
    "            print('Content type %s is ignored.' % content_type)\n",
    "            return\n",
    "\n",
    "        print('Storing message: %s' % msg)\n",
    "        self._store.put(msg)\n",
    "\n",
    "\n",
    "import threading\n",
    "\n",
    "class CustomThread(threading.Thread):\n",
    "    def start(self):\n",
    "        print('CustomThread starting ...')\n",
    "        super(CustomThread, self).start()\n",
    "\n",
    "# Note how this function wraps around the `call()` function below to implement\n",
    "# a custom thread for delegation.\n",
    "def custom_thread(func):\n",
    "    def f(seed_tuple):\n",
    "        target = func(seed_tuple)\n",
    "\n",
    "        if type(target) is tuple:\n",
    "            run, args, kwargs = target\n",
    "            t = CustomThread(target=run, args=args, kwargs=kwargs)\n",
    "        else:\n",
    "            t = CustomThread(target=target)\n",
    "\n",
    "        return t\n",
    "    return f\n",
    "\n",
    "\n",
    "class ChatBox(telepot.DelegatorBot):\n",
    "    def __init__(self, token, owner_id):\n",
    "        self._owner_id = owner_id\n",
    "        self._seen = set()\n",
    "        self._store = UnreadStore()\n",
    "\n",
    "        super(ChatBox, self).__init__(token, [\n",
    "            # Here is a delegate to specially handle owner commands.\n",
    "            pave_event_space()(\n",
    "                per_chat_id_in([owner_id]), create_open, OwnerHandler, self._store, timeout=20),\n",
    "\n",
    "            # Only one MessageSaver is ever spawned for entire application.\n",
    "            (per_application(), create_open(MessageSaver, self._store, exclude=[owner_id])),\n",
    "\n",
    "            # For senders never seen before, send him a welcome message.\n",
    "            (self._is_newcomer, custom_thread(call(self._send_welcome))),\n",
    "        ])\n",
    "\n",
    "    # seed-calculating function: use returned value to indicate whether to spawn a delegate\n",
    "    def _is_newcomer(self, msg):\n",
    "        if telepot.is_event(msg):\n",
    "            return None\n",
    "\n",
    "        chat_id = msg['chat']['id']\n",
    "        if chat_id == self._owner_id:  # Sender is owner\n",
    "            return None  # No delegate spawned\n",
    "\n",
    "        if chat_id in self._seen:  # Sender has been seen before\n",
    "            return None  # No delegate spawned\n",
    "\n",
    "        self._seen.add(chat_id)\n",
    "        return []  # non-hashable ==> delegates are independent, no seed association is made.\n",
    "\n",
    "    def _send_welcome(self, seed_tuple):\n",
    "        chat_id = seed_tuple[1]['chat']['id']\n",
    "\n",
    "        print('Sending welcome ...')\n",
    "        self.sendMessage(chat_id, 'Hello!')\n",
    "\n",
    "\n",
    "TOKEN = '1023504391:AAEodSKmzb17E7Mdf7ZBaka-lvMGCAYfVJQ'#sys.argv[1]\n",
    "OWNER_ID = 997657577#int(sys.argv[2])\n",
    "\n",
    "bot = ChatBox(TOKEN, OWNER_ID)\n",
    "MessageLoop(bot).run_as_thread()\n",
    "print('Listening ...')\n",
    "\n",
    "while 1:\n",
    "    time.sleep(10)"
   ]
  },
  {
   "cell_type": "code",
   "execution_count": null,
   "metadata": {},
   "outputs": [],
   "source": []
  }
 ],
 "metadata": {
  "kernelspec": {
   "display_name": "Python 3",
   "language": "python",
   "name": "python3"
  },
  "language_info": {
   "codemirror_mode": {
    "name": "ipython",
    "version": 3
   },
   "file_extension": ".py",
   "mimetype": "text/x-python",
   "name": "python",
   "nbconvert_exporter": "python",
   "pygments_lexer": "ipython3",
   "version": "3.7.4"
  }
 },
 "nbformat": 4,
 "nbformat_minor": 4
}
